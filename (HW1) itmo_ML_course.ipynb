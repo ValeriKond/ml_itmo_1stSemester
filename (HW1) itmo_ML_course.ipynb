{
 "cells": [
  {
   "cell_type": "markdown",
   "id": "7505b99a-244f-4400-90c2-c6ac3e122410",
   "metadata": {},
   "source": [
    "# Бизнес-постановка задачи"
   ]
  },
  {
   "cell_type": "markdown",
   "id": "1b6c2337-2766-4eb5-8caa-d21328f921c1",
   "metadata": {},
   "source": [
    "Цель: разработать модель, которая будет предсказывать вероятность выпадения волос (облысения) у человека на основе различных факторов: \n",
    "генетика, медицинские состояния, образ жизни и так далее. \n",
    "\n",
    "Использование: по факторам врачи \n",
    "(+ специалисты по волосам) смогут выявлять риски и рекомендовать профилактические меры (если риски \n",
    "есть)"
   ]
  },
  {
   "cell_type": "markdown",
   "id": "2eb7acba-dc1e-4191-8048-f76c2e018b02",
   "metadata": {},
   "source": [
    "# ML-задача"
   ]
  },
  {
   "cell_type": "markdown",
   "id": "973a6c45-e1b3-4f76-8253-f70dd3cc87d3",
   "metadata": {},
   "source": [
    "Задача сводится к бинарной классификации: определению (предсказанию) выпадения волос (Yes/True/1) и отсутствию\n",
    "выпадения волос (No/False/0) на основе признаков (факторов)"
   ]
  },
  {
   "cell_type": "markdown",
   "id": "a057cafa-d6cc-4ff8-8405-4f16d1d1ebdc",
   "metadata": {},
   "source": [
    "# О наборе данных"
   ]
  },
  {
   "cell_type": "markdown",
   "id": "210cde4a-f73c-41c7-814b-e73e7278d97a",
   "metadata": {},
   "source": [
    "Данные содержат 999 записей (рассмотрено ниже) с разными признаками, влияющими на выпадение волос: генетика, гормональные изменения, медицинские состояния, лечение, питание, стресс, возраст, вредные привычки и другие. Все факторы должны позволить модели учитывать комплекс факторов для наиболее точного предсказания. Датасет взят из каггла (линк: https://www.kaggle.com/datasets/amitvkulkarni/hair-health/data)\n",
    "\n",
    "Описание каждого из полей (с каггла):\n",
    "\n",
    "Genetics: Indicates whether the individual has a family history of baldness (Yes/No).\n",
    "\n",
    "Hormonal Changes: Indicates whether the individual has experienced hormonal changes (Yes/No).\n",
    "\n",
    "Medical Conditions: Lists specific medical conditions that may contribute to baldness, such as Alopecia Areata, Thyroid Problems, Scalp Infection, Psoriasis, Dermatitis, etc.\n",
    "\n",
    "Medications & Treatments: Lists medications and treatments that may lead to hair loss, such as Chemotherapy, Heart Medication, Antidepressants, Steroids, etc.\n",
    "\n",
    "Nutritional Deficiencies: Lists nutritional deficiencies that may contribute to hair loss, such as Iron deficiency, Vitamin D deficiency, Biotin deficiency, Omega-3 fatty acid deficiency, etc.\n",
    "\n",
    "Stress: Indicates the stress level of the individual (Low/Moderate/High).\n",
    "\n",
    "Age: Represents the age of the individual.\n",
    "\n",
    "Poor Hair Care Habits: Indicates whether the individual practices poor hair care habits (Yes/No).\n",
    "\n",
    "Environmental Factors: Indicates whether the individual is exposed to environmental factors that may contribute to hair loss (Yes/No).\n",
    "\n",
    "Smoking: Indicates whether the individual smokes (Yes/No).\n",
    "\n",
    "Weight Loss: Indicates whether the individual has experienced significant weight loss (Yes/No).\n",
    "\n",
    "Baldness (Target): Binary variable indicating the presence (1) or absence (0) of baldness in the individual."
   ]
  },
  {
   "cell_type": "markdown",
   "id": "cecfa568-9148-4cf2-8e88-8140479827b5",
   "metadata": {},
   "source": [
    "# Метрики"
   ]
  },
  {
   "cell_type": "markdown",
   "id": "549301c4-bf19-4950-8f3f-d4998cffc5bb",
   "metadata": {},
   "source": [
    "В качестве первоначальной метрики выбираю recall, как принято в медицинских и полумедицинских данных, тк считаю, что лучше что-то сделать лишнее, чем не сделать ничего и подставить себя возможному риску. Естественно важно будет и смотреть за тем, как модель будет справляться с FP, так что дополнительно посмотрел бы на картину в целом благодаря F-мере или на roc auc"
   ]
  },
  {
   "cell_type": "markdown",
   "id": "e240ede9-89ec-4e30-bdb3-cf588eb63abf",
   "metadata": {},
   "source": [
    "# Первоначальное рассмотрение данных"
   ]
  },
  {
   "cell_type": "code",
   "execution_count": 1,
   "id": "5aabb373-b662-4e0c-881d-e92966c0e105",
   "metadata": {},
   "outputs": [],
   "source": [
    "import pandas as pd"
   ]
  },
  {
   "cell_type": "code",
   "execution_count": 3,
   "id": "c440390c-af32-42f3-af9f-5abb84a24d9a",
   "metadata": {},
   "outputs": [],
   "source": [
    "df = pd.read_csv('Predict Hair Fall.csv')"
   ]
  },
  {
   "cell_type": "code",
   "execution_count": 5,
   "id": "3809ec4c-6e14-46ff-8a60-c9b07eacb206",
   "metadata": {},
   "outputs": [
    {
     "data": {
      "text/html": [
       "<div>\n",
       "<style scoped>\n",
       "    .dataframe tbody tr th:only-of-type {\n",
       "        vertical-align: middle;\n",
       "    }\n",
       "\n",
       "    .dataframe tbody tr th {\n",
       "        vertical-align: top;\n",
       "    }\n",
       "\n",
       "    .dataframe thead th {\n",
       "        text-align: right;\n",
       "    }\n",
       "</style>\n",
       "<table border=\"1\" class=\"dataframe\">\n",
       "  <thead>\n",
       "    <tr style=\"text-align: right;\">\n",
       "      <th></th>\n",
       "      <th>Id</th>\n",
       "      <th>Age</th>\n",
       "      <th>Hair Loss</th>\n",
       "    </tr>\n",
       "  </thead>\n",
       "  <tbody>\n",
       "    <tr>\n",
       "      <th>count</th>\n",
       "      <td>999.000000</td>\n",
       "      <td>999.000000</td>\n",
       "      <td>999.000000</td>\n",
       "    </tr>\n",
       "    <tr>\n",
       "      <th>mean</th>\n",
       "      <td>153354.673674</td>\n",
       "      <td>34.188188</td>\n",
       "      <td>0.497497</td>\n",
       "    </tr>\n",
       "    <tr>\n",
       "      <th>std</th>\n",
       "      <td>25516.041985</td>\n",
       "      <td>9.377980</td>\n",
       "      <td>0.500244</td>\n",
       "    </tr>\n",
       "    <tr>\n",
       "      <th>min</th>\n",
       "      <td>110003.000000</td>\n",
       "      <td>18.000000</td>\n",
       "      <td>0.000000</td>\n",
       "    </tr>\n",
       "    <tr>\n",
       "      <th>25%</th>\n",
       "      <td>131867.500000</td>\n",
       "      <td>26.000000</td>\n",
       "      <td>0.000000</td>\n",
       "    </tr>\n",
       "    <tr>\n",
       "      <th>50%</th>\n",
       "      <td>152951.000000</td>\n",
       "      <td>34.000000</td>\n",
       "      <td>0.000000</td>\n",
       "    </tr>\n",
       "    <tr>\n",
       "      <th>75%</th>\n",
       "      <td>174969.000000</td>\n",
       "      <td>42.000000</td>\n",
       "      <td>1.000000</td>\n",
       "    </tr>\n",
       "    <tr>\n",
       "      <th>max</th>\n",
       "      <td>199949.000000</td>\n",
       "      <td>50.000000</td>\n",
       "      <td>1.000000</td>\n",
       "    </tr>\n",
       "  </tbody>\n",
       "</table>\n",
       "</div>"
      ],
      "text/plain": [
       "                  Id         Age   Hair Loss\n",
       "count     999.000000  999.000000  999.000000\n",
       "mean   153354.673674   34.188188    0.497497\n",
       "std     25516.041985    9.377980    0.500244\n",
       "min    110003.000000   18.000000    0.000000\n",
       "25%    131867.500000   26.000000    0.000000\n",
       "50%    152951.000000   34.000000    0.000000\n",
       "75%    174969.000000   42.000000    1.000000\n",
       "max    199949.000000   50.000000    1.000000"
      ]
     },
     "execution_count": 5,
     "metadata": {},
     "output_type": "execute_result"
    }
   ],
   "source": [
    "df.describe()"
   ]
  },
  {
   "cell_type": "code",
   "execution_count": 6,
   "id": "c4f86eac-e7fb-4a91-a773-e20be2b20cdf",
   "metadata": {},
   "outputs": [
    {
     "name": "stdout",
     "output_type": "stream",
     "text": [
      "<class 'pandas.core.frame.DataFrame'>\n",
      "RangeIndex: 999 entries, 0 to 998\n",
      "Data columns (total 13 columns):\n",
      " #   Column                     Non-Null Count  Dtype \n",
      "---  ------                     --------------  ----- \n",
      " 0   Id                         999 non-null    int64 \n",
      " 1   Genetics                   999 non-null    object\n",
      " 2   Hormonal Changes           999 non-null    object\n",
      " 3   Medical Conditions         999 non-null    object\n",
      " 4   Medications & Treatments   999 non-null    object\n",
      " 5   Nutritional Deficiencies   999 non-null    object\n",
      " 6   Stress                     999 non-null    object\n",
      " 7   Age                        999 non-null    int64 \n",
      " 8   Poor Hair Care Habits      999 non-null    object\n",
      " 9   Environmental Factors      999 non-null    object\n",
      " 10  Smoking                    999 non-null    object\n",
      " 11  Weight Loss                999 non-null    object\n",
      " 12  Hair Loss                  999 non-null    int64 \n",
      "dtypes: int64(3), object(10)\n",
      "memory usage: 101.6+ KB\n"
     ]
    }
   ],
   "source": [
    "df.info()"
   ]
  },
  {
   "cell_type": "code",
   "execution_count": 35,
   "id": "f3544983-8bb1-44e2-a684-036e9cd557ea",
   "metadata": {},
   "outputs": [
    {
     "name": "stdout",
     "output_type": "stream",
     "text": [
      "Genetics\n",
      "['Yes' 'No']\n",
      "Hormonal Changes\n",
      "['No' 'Yes']\n",
      "Medical Conditions\n",
      "['No Data' 'Eczema' 'Dermatosis' 'Ringworm' 'Psoriasis' 'Alopecia Areata '\n",
      " 'Scalp Infection' 'Seborrheic Dermatitis' 'Dermatitis' 'Thyroid Problems'\n",
      " 'Androgenetic Alopecia']\n",
      "Medications & Treatments\n",
      "['No Data' 'Antibiotics' 'Antifungal Cream' 'Accutane' 'Chemotherapy'\n",
      " 'Steroids' 'Rogaine' 'Blood Pressure Medication' 'Immunomodulators'\n",
      " 'Antidepressants ' 'Heart Medication ']\n",
      "Nutritional Deficiencies \n",
      "['Magnesium deficiency' 'Protein deficiency' 'Biotin Deficiency '\n",
      " 'Iron deficiency' 'Selenium deficiency' 'Omega-3 fatty acids'\n",
      " 'Zinc Deficiency' 'Vitamin A Deficiency' 'Vitamin D Deficiency' 'No Data'\n",
      " 'Vitamin E deficiency']\n",
      "Stress\n",
      "['Moderate' 'High' 'Low']\n",
      "Age\n",
      "[19 43 26 46 30 37 40 35 49 48 20 34 29 33 28 41 21 22 45 24 31 39 38 36\n",
      " 18 44 50 27 25 23 47 32 42]\n",
      "Poor Hair Care Habits \n",
      "['Yes' 'No']\n",
      "Environmental Factors\n",
      "['Yes' 'No']\n",
      "Smoking\n",
      "['No' 'Yes']\n",
      "Weight Loss \n",
      "['No' 'Yes']\n",
      "Hair Loss\n",
      "[0 1]\n"
     ]
    }
   ],
   "source": [
    "for i in df.columns:\n",
    "    if i != 'Id':\n",
    "        print(i)\n",
    "        print (df[i].unique())"
   ]
  },
  {
   "cell_type": "markdown",
   "id": "83003417-61ba-440f-ba0b-75230cefaaa9",
   "metadata": {},
   "source": [
    "### Комментарий по предыдущим ячейкам"
   ]
  },
  {
   "cell_type": "markdown",
   "id": "f5352cf4-8b1c-408d-991f-5ca0f3b5009b",
   "metadata": {},
   "source": [
    "Многие столбцы могут быть переведены из object (string) в numeric значения или значения от 0 до n, так как логически несут\n",
    "мысль увеличения чего-либо (речь о стрессе). Оставшиеся поля придется оставить стринговыми, но это не принесет большой мороки, тк в одной из лекций приметил для себя корреляцию Phik, которая со всем разберется.\n",
    "Прикольно, что нет пропусков данных (хотя есть \"No Data\"), но в совокупности с объемом датасета есть намеки на искусственность датасета... (об этом на каггле не уточнялось, но допускаю возможным). Слишком идеальный датасет))\n",
    "Пока что по этим ячейкам доп выводов не сделать, идем дальше"
   ]
  },
  {
   "cell_type": "code",
   "execution_count": 39,
   "id": "7d02b8b5-3e39-404e-885f-babf6ac08979",
   "metadata": {},
   "outputs": [],
   "source": [
    "df_forAnalisys = df.copy()"
   ]
  },
  {
   "cell_type": "code",
   "execution_count": 42,
   "id": "5cc57372-2cf9-49a4-a921-04ba0994faba",
   "metadata": {
    "scrolled": true
   },
   "outputs": [
    {
     "name": "stderr",
     "output_type": "stream",
     "text": [
      "/var/folders/kn/ths93g955tjfb00q7rp5hknc0000gn/T/ipykernel_14516/339397056.py:6: FutureWarning: Downcasting behavior in `replace` is deprecated and will be removed in a future version. To retain the old behavior, explicitly call `result.infer_objects(copy=False)`. To opt-in to the future behavior, set `pd.set_option('future.no_silent_downcasting', True)`\n",
      "  df_forAnalisys[[i]] = df_forAnalisys[[i]].replace('Low',0)\n"
     ]
    }
   ],
   "source": [
    "for i in df_forAnalisys.columns:\n",
    "    df_forAnalisys[[i]] = df_forAnalisys[[i]].replace('No',0)\n",
    "    df_forAnalisys[[i]] = df_forAnalisys[[i]].replace('Yes',1)\n",
    "    df_forAnalisys[[i]] = df_forAnalisys[[i]].replace('Moderate',1)\n",
    "    df_forAnalisys[[i]] = df_forAnalisys[[i]].replace('High',2)\n",
    "    df_forAnalisys[[i]] = df_forAnalisys[[i]].replace('Low',0)"
   ]
  },
  {
   "cell_type": "code",
   "execution_count": 65,
   "id": "ca1ab439-57fe-4035-8720-bd04197d4f94",
   "metadata": {},
   "outputs": [],
   "source": [
    "def columns_spaces(i):\n",
    "    return i.replace(' ', '_')\n",
    "\n",
    "df_forAnalisys.columns = df_forAnalisys.columns.map(columns_spaces)"
   ]
  },
  {
   "cell_type": "code",
   "execution_count": 72,
   "id": "01318207-2a35-4fe1-97b0-6b73bb75325b",
   "metadata": {},
   "outputs": [],
   "source": [
    "df_forAnalisys['Age_group'] = df_forAnalisys['Age'].apply(\n",
    "    lambda x: 0 if 18 <= x <= 30 else (1 if 31 <= x <= 40 else (2 if x > 40 else null)))"
   ]
  },
  {
   "cell_type": "code",
   "execution_count": 66,
   "id": "f8b1245d-22f1-4541-8fb1-9a64714deced",
   "metadata": {},
   "outputs": [],
   "source": [
    "import plotly.express as px\n",
    "import matplotlib.pyplot as plt"
   ]
  },
  {
   "cell_type": "code",
   "execution_count": 73,
   "id": "9fe9e109-1918-4114-aee2-23ca024b6b23",
   "metadata": {},
   "outputs": [
    {
     "data": {
      "image/png": "[encoded data removed]",
      "text/plain": [
       "<Figure size 1500x1000 with 12 Axes>"
      ]
     },
     "metadata": {},
     "output_type": "display_data"
    }
   ],
   "source": [
    "df_forAnalisys.hist(bins=20, figsize=(15, 10))\n",
    "plt.suptitle('Гистограммы признаков')\n",
    "plt.show()"
   ]
  },
  {
   "cell_type": "code",
   "execution_count": 69,
   "id": "28c5f4ad-c434-4bac-a481-021bb7070532",
   "metadata": {},
   "outputs": [
    {
     "data": {
      "text/plain": [
       "Hair_Loss\n",
       "0    502\n",
       "1    497\n",
       "Name: count, dtype: int64"
      ]
     },
     "execution_count": 69,
     "metadata": {},
     "output_type": "execute_result"
    }
   ],
   "source": [
    "df_forAnalisys.Hair_Loss.value_counts()"
   ]
  },
  {
   "cell_type": "markdown",
   "id": "6d0ce3f9-f48a-4972-b95b-29acf4710742",
   "metadata": {},
   "source": [
    "### Комментарий по предыдущим ячейкам"
   ]
  },
  {
   "cell_type": "markdown",
   "id": "f2f35b11-59e6-4301-a47d-290dbf14ef10",
   "metadata": {},
   "source": [
    "Здорово (для ml, но не работы с данными), что действительно не оказалось нулевых данных и каких-то странных выборосов И вдобавок все признаки практически идеально (имею в виду равномерно) распределены. Это опять же намекает на некоторую либо предобработку данных, либо изначальную искусственность, созданную для обучения (ни о том и о том опять же информации нет)\n",
    "\n",
    "Целевая переменная - haır loss, ее собственно и предлагается предсказывать. Распределена равномерно, половина данных c лейблом нуля, половина(чуть меньше) - с проблемой облысения\n",
    "\n",
    "Другие признаки ведут себя похожим образом, стресс - распределен равномерно между 0,1 и 2 где в 0 был преобразован 'low', 1 - 'moderate', 2 - 'high'\n",
    "\n",
    "Возраст распределен более хаотично, но если посмотреть на него, разбив по примерным группам [18-30, 31-40, 41+], то видно, что все также примерно распределилось равномерно между [0,1,2] соответственно"
   ]
  },
  {
   "cell_type": "code",
   "execution_count": 107,
   "id": "f8701a17-d4e5-4ec5-880b-ba3049afdba3",
   "metadata": {},
   "outputs": [
    {
     "data": {
      "application/vnd.plotly.v1+json": {
       "config": {
        "plotlyServerURL": "https://plot.ly"
       },
       "data": [
        {
         "coloraxis": "coloraxis",
         "hovertemplate": "Признаки: %{x}<br>Признаки: %{y}<br>Corr: %{z}<extra></extra>",
         "name": "0",
         "type": "heatmap",
         "x": [
          "Id",
          "Genetics",
          "Hormonal_Changes",
          "Stress",
          "Age",
          "Poor_Hair_Care_Habits_",
          "Environmental_Factors",
          "Smoking",
          "Weight_Loss_",
          "Hair_Loss",
          "Age_group"
         ],
         "xaxis": "x",
         "y": [
          "Id",
          "Genetics",
          "Hormonal_Changes",
          "Stress",
          "Age",
          "Poor_Hair_Care_Habits_",
          "Environmental_Factors",
          "Smoking",
          "Weight_Loss_",
          "Hair_Loss",
          "Age_group"
         ],
         "yaxis": "y",
         "z": [
          [
           1,
           0.03385289740917946,
           0.03614833541144947,
           0.004561358406168264,
           0.04988601561572856,
           -0.02318199745612798,
           0.017542522659184368,
           -0.018664108631970794,
           0.02094702909210322,
           0.0463673001676617,
           0.042242582898736704
          ],
          [
           0.03385289740917946,
           1,
           -0.007873133776727815,
           -0.03450074850599384,
           -0.03725179543797816,
           -0.012350588255374233,
           0.03029963710508016,
           -0.032847903338327836,
           -0.00654561317592795,
           0.041308938948503494,
           -0.04588516302089458
          ],
          [
           0.03614833541144947,
           -0.007873133776727815,
           1,
           -0.017262114079300322,
           -0.04417495496972752,
           -0.05078038876873193,
           -0.051391433725357,
           0.0223015703790999,
           -0.05409978457508602,
           0.007103571128379199,
           -0.06539667283944253
          ],
          [
           0.004561358406168264,
           -0.03450074850599384,
           -0.017262114079300322,
           1,
           0.02375287608426173,
           -0.007570324708233425,
           -0.012304038714916823,
           0.010242270489613478,
           0.007057628126143808,
           -3.732527663917597e-05,
           0.020529668269097072
          ],
          [
           0.04988601561572856,
           -0.03725179543797816,
           -0.04417495496972752,
           0.02375287608426173,
           1,
           0.012477262982839197,
           -0.004614038965655151,
           -0.0029218766766562895,
           0.01629466041882201,
           -0.06248097805951248,
           0.9369180727648756
          ],
          [
           -0.02318199745612798,
           -0.012350588255374233,
           -0.05078038876873193,
           -0.007570324708233425,
           0.012477262982839197,
           1,
           0.0633348835297439,
           0.0055960731002348135,
           -0.001830636025505786,
           -0.039119089141348,
           0.03401050586627088
          ],
          [
           0.017542522659184368,
           0.03029963710508016,
           -0.051391433725357,
           -0.012304038714916823,
           -0.004614038965655151,
           0.0633348835297439,
           1,
           0.012359895488346359,
           -0.004074901667423594,
           -0.018936827966429703,
           -0.011836074772434662
          ],
          [
           -0.018664108631970794,
           -0.032847903338327836,
           0.0223015703790999,
           0.010242270489613478,
           -0.0029218766766562895,
           0.0055960731002348135,
           0.012359895488346359,
           1,
           -0.000855655603715433,
           -0.05690575872694462,
           -0.007326261886884353
          ],
          [
           0.02094702909210322,
           -0.00654561317592795,
           -0.05409978457508602,
           0.007057628126143808,
           0.01629466041882201,
           -0.001830636025505786,
           -0.004074901667423594,
           -0.000855655603715433,
           1,
           0.044838059944479626,
           -0.008854969211938513
          ],
          [
           0.0463673001676617,
           0.041308938948503494,
           0.007103571128379199,
           -3.732527663917597e-05,
           -0.06248097805951248,
           -0.039119089141348,
           -0.018936827966429703,
           -0.05690575872694462,
           0.044838059944479626,
           1,
           -0.06275957563117106
          ],
          [
           0.042242582898736704,
           -0.04588516302089458,
           -0.06539667283944253,
           0.020529668269097072,
           0.9369180727648756,
           0.03401050586627088,
           -0.011836074772434662,
           -0.007326261886884353,
           -0.008854969211938513,
           -0.06275957563117106,
           1
          ]
         ]
        }
       ],
       "layout": {
        "coloraxis": {
         "colorbar": {
          "title": {
           "text": "Corr"
          }
         },
         "colorscale": [
          [
           0,
           "rgb(247,252,245)"
          ],
          [
           0.125,
           "rgb(229,245,224)"
          ],
          [
           0.25,
           "rgb(199,233,192)"
          ],
          [
           0.375,
           "rgb(161,217,155)"
          ],
          [
           0.5,
           "rgb(116,196,118)"
          ],
          [
           0.625,
           "rgb(65,171,93)"
          ],
          [
           0.75,
           "rgb(35,139,69)"
          ],
          [
           0.875,
           "rgb(0,109,44)"
          ],
          [
           1,
           "rgb(0,68,27)"
          ]
         ]
        },
        "height": 700,
        "template": {
         "data": {
          "bar": [
           {
            "error_x": {
             "color": "#2a3f5f"
            },
            "error_y": {
             "color": "#2a3f5f"
            },
            "marker": {
             "line": {
              "color": "#E5ECF6",
              "width": 0.5
             },
             "pattern": {
              "fillmode": "overlay",
              "size": 10,
              "solidity": 0.2
             }
            },
            "type": "bar"
           }
          ],
          "barpolar": [
           {
            "marker": {
             "line": {
              "color": "#E5ECF6",
              "width": 0.5
             },
             "pattern": {
              "fillmode": "overlay",
              "size": 10,
              "solidity": 0.2
             }
            },
            "type": "barpolar"
           }
          ],
          "carpet": [
           {
            "aaxis": {
             "endlinecolor": "#2a3f5f",
             "gridcolor": "white",
             "linecolor": "white",
             "minorgridcolor": "white",
             "startlinecolor": "#2a3f5f"
            },
            "baxis": {
             "endlinecolor": "#2a3f5f",
             "gridcolor": "white",
             "linecolor": "white",
             "minorgridcolor": "white",
             "startlinecolor": "#2a3f5f"
            },
            "type": "carpet"
           }
          ],
          "choropleth": [
           {
            "colorbar": {
             "outlinewidth": 0,
             "ticks": ""
            },
            "type": "choropleth"
           }
          ],
          "contour": [
           {
            "colorbar": {
             "outlinewidth": 0,
             "ticks": ""
            },
            "colorscale": [
             [
              0,
              "#0d0887"
             ],
             [
              0.1111111111111111,
              "#46039f"
             ],
             [
              0.2222222222222222,
              "#7201a8"
             ],
             [
              0.3333333333333333,
              "#9c179e"
             ],
             [
              0.4444444444444444,
              "#bd3786"
             ],
             [
              0.5555555555555556,
              "#d8576b"
             ],
             [
              0.6666666666666666,
              "#ed7953"
             ],
             [
              0.7777777777777778,
              "#fb9f3a"
             ],
             [
              0.8888888888888888,
              "#fdca26"
             ],
             [
              1,
              "#f0f921"
             ]
            ],
            "type": "contour"
           }
          ],
          "contourcarpet": [
           {
            "colorbar": {
             "outlinewidth": 0,
             "ticks": ""
            },
            "type": "contourcarpet"
           }
          ],
          "heatmap": [
           {
            "colorbar": {
             "outlinewidth": 0,
             "ticks": ""
            },
            "colorscale": [
             [
              0,
              "#0d0887"
             ],
             [
              0.1111111111111111,
              "#46039f"
             ],
             [
              0.2222222222222222,
              "#7201a8"
             ],
             [
              0.3333333333333333,
              "#9c179e"
             ],
             [
              0.4444444444444444,
              "#bd3786"
             ],
             [
              0.5555555555555556,
              "#d8576b"
             ],
             [
              0.6666666666666666,
              "#ed7953"
             ],
             [
              0.7777777777777778,
              "#fb9f3a"
             ],
             [
              0.8888888888888888,
              "#fdca26"
             ],
             [
              1,
              "#f0f921"
             ]
            ],
            "type": "heatmap"
           }
          ],
          "heatmapgl": [
           {
            "colorbar": {
             "outlinewidth": 0,
             "ticks": ""
            },
            "colorscale": [
             [
              0,
              "#0d0887"
             ],
             [
              0.1111111111111111,
              "#46039f"
             ],
             [
              0.2222222222222222,
              "#7201a8"
             ],
             [
              0.3333333333333333,
              "#9c179e"
             ],
             [
              0.4444444444444444,
              "#bd3786"
             ],
             [
              0.5555555555555556,
              "#d8576b"
             ],
             [
              0.6666666666666666,
              "#ed7953"
             ],
             [
              0.7777777777777778,
              "#fb9f3a"
             ],
             [
              0.8888888888888888,
              "#fdca26"
             ],
             [
              1,
              "#f0f921"
             ]
            ],
            "type": "heatmapgl"
           }
          ],
          "histogram": [
           {
            "marker": {
             "pattern": {
              "fillmode": "overlay",
              "size": 10,
              "solidity": 0.2
             }
            },
            "type": "histogram"
           }
          ],
          "histogram2d": [
           {
            "colorbar": {
             "outlinewidth": 0,
             "ticks": ""
            },
            "colorscale": [
             [
              0,
              "#0d0887"
             ],
             [
              0.1111111111111111,
              "#46039f"
             ],
             [
              0.2222222222222222,
              "#7201a8"
             ],
             [
              0.3333333333333333,
              "#9c179e"
             ],
             [
              0.4444444444444444,
              "#bd3786"
             ],
             [
              0.5555555555555556,
              "#d8576b"
             ],
             [
              0.6666666666666666,
              "#ed7953"
             ],
             [
              0.7777777777777778,
              "#fb9f3a"
             ],
             [
              0.8888888888888888,
              "#fdca26"
             ],
             [
              1,
              "#f0f921"
             ]
            ],
            "type": "histogram2d"
           }
          ],
          "histogram2dcontour": [
           {
            "colorbar": {
             "outlinewidth": 0,
             "ticks": ""
            },
            "colorscale": [
             [
              0,
              "#0d0887"
             ],
             [
              0.1111111111111111,
              "#46039f"
             ],
             [
              0.2222222222222222,
              "#7201a8"
             ],
             [
              0.3333333333333333,
              "#9c179e"
             ],
             [
              0.4444444444444444,
              "#bd3786"
             ],
             [
              0.5555555555555556,
              "#d8576b"
             ],
             [
              0.6666666666666666,
              "#ed7953"
             ],
             [
              0.7777777777777778,
              "#fb9f3a"
             ],
             [
              0.8888888888888888,
              "#fdca26"
             ],
             [
              1,
              "#f0f921"
             ]
            ],
            "type": "histogram2dcontour"
           }
          ],
          "mesh3d": [
           {
            "colorbar": {
             "outlinewidth": 0,
             "ticks": ""
            },
            "type": "mesh3d"
           }
          ],
          "parcoords": [
           {
            "line": {
             "colorbar": {
              "outlinewidth": 0,
              "ticks": ""
             }
            },
            "type": "parcoords"
           }
          ],
          "pie": [
           {
            "automargin": true,
            "type": "pie"
           }
          ],
          "scatter": [
           {
            "fillpattern": {
             "fillmode": "overlay",
             "size": 10,
             "solidity": 0.2
            },
            "type": "scatter"
           }
          ],
          "scatter3d": [
           {
            "line": {
             "colorbar": {
              "outlinewidth": 0,
              "ticks": ""
             }
            },
            "marker": {
             "colorbar": {
              "outlinewidth": 0,
              "ticks": ""
             }
            },
            "type": "scatter3d"
           }
          ],
          "scattercarpet": [
           {
            "marker": {
             "colorbar": {
              "outlinewidth": 0,
              "ticks": ""
             }
            },
            "type": "scattercarpet"
           }
          ],
          "scattergeo": [
           {
            "marker": {
             "colorbar": {
              "outlinewidth": 0,
              "ticks": ""
             }
            },
            "type": "scattergeo"
           }
          ],
          "scattergl": [
           {
            "marker": {
             "colorbar": {
              "outlinewidth": 0,
              "ticks": ""
             }
            },
            "type": "scattergl"
           }
          ],
          "scattermapbox": [
           {
            "marker": {
             "colorbar": {
              "outlinewidth": 0,
              "ticks": ""
             }
            },
            "type": "scattermapbox"
           }
          ],
          "scatterpolar": [
           {
            "marker": {
             "colorbar": {
              "outlinewidth": 0,
              "ticks": ""
             }
            },
            "type": "scatterpolar"
           }
          ],
          "scatterpolargl": [
           {
            "marker": {
             "colorbar": {
              "outlinewidth": 0,
              "ticks": ""
             }
            },
            "type": "scatterpolargl"
           }
          ],
          "scatterternary": [
           {
            "marker": {
             "colorbar": {
              "outlinewidth": 0,
              "ticks": ""
             }
            },
            "type": "scatterternary"
           }
          ],
          "surface": [
           {
            "colorbar": {
             "outlinewidth": 0,
             "ticks": ""
            },
            "colorscale": [
             [
              0,
              "#0d0887"
             ],
             [
              0.1111111111111111,
              "#46039f"
             ],
             [
              0.2222222222222222,
              "#7201a8"
             ],
             [
              0.3333333333333333,
              "#9c179e"
             ],
             [
              0.4444444444444444,
              "#bd3786"
             ],
             [
              0.5555555555555556,
              "#d8576b"
             ],
             [
              0.6666666666666666,
              "#ed7953"
             ],
             [
              0.7777777777777778,
              "#fb9f3a"
             ],
             [
              0.8888888888888888,
              "#fdca26"
             ],
             [
              1,
              "#f0f921"
             ]
            ],
            "type": "surface"
           }
          ],
          "table": [
           {
            "cells": {
             "fill": {
              "color": "#EBF0F8"
             },
             "line": {
              "color": "white"
             }
            },
            "header": {
             "fill": {
              "color": "#C8D4E3"
             },
             "line": {
              "color": "white"
             }
            },
            "type": "table"
           }
          ]
         },
         "layout": {
          "annotationdefaults": {
           "arrowcolor": "#2a3f5f",
           "arrowhead": 0,
           "arrowwidth": 1
          },
          "autotypenumbers": "strict",
          "coloraxis": {
           "colorbar": {
            "outlinewidth": 0,
            "ticks": ""
           }
          },
          "colorscale": {
           "diverging": [
            [
             0,
             "#8e0152"
            ],
            [
             0.1,
             "#c51b7d"
            ],
            [
             0.2,
             "#de77ae"
            ],
            [
             0.3,
             "#f1b6da"
            ],
            [
             0.4,
             "#fde0ef"
            ],
            [
             0.5,
             "#f7f7f7"
            ],
            [
             0.6,
             "#e6f5d0"
            ],
            [
             0.7,
             "#b8e186"
            ],
            [
             0.8,
             "#7fbc41"
            ],
            [
             0.9,
             "#4d9221"
            ],
            [
             1,
             "#276419"
            ]
           ],
           "sequential": [
            [
             0,
             "#0d0887"
            ],
            [
             0.1111111111111111,
             "#46039f"
            ],
            [
             0.2222222222222222,
             "#7201a8"
            ],
            [
             0.3333333333333333,
             "#9c179e"
            ],
            [
             0.4444444444444444,
             "#bd3786"
            ],
            [
             0.5555555555555556,
             "#d8576b"
            ],
            [
             0.6666666666666666,
             "#ed7953"
            ],
            [
             0.7777777777777778,
             "#fb9f3a"
            ],
            [
             0.8888888888888888,
             "#fdca26"
            ],
            [
             1,
             "#f0f921"
            ]
           ],
           "sequentialminus": [
            [
             0,
             "#0d0887"
            ],
            [
             0.1111111111111111,
             "#46039f"
            ],
            [
             0.2222222222222222,
             "#7201a8"
            ],
            [
             0.3333333333333333,
             "#9c179e"
            ],
            [
             0.4444444444444444,
             "#bd3786"
            ],
            [
             0.5555555555555556,
             "#d8576b"
            ],
            [
             0.6666666666666666,
             "#ed7953"
            ],
            [
             0.7777777777777778,
             "#fb9f3a"
            ],
            [
             0.8888888888888888,
             "#fdca26"
            ],
            [
             1,
             "#f0f921"
            ]
           ]
          },
          "colorway": [
           "#636efa",
           "#EF553B",
           "#00cc96",
           "#ab63fa",
           "#FFA15A",
           "#19d3f3",
           "#FF6692",
           "#B6E880",
           "#FF97FF",
           "#FECB52"
          ],
          "font": {
           "color": "#2a3f5f"
          },
          "geo": {
           "bgcolor": "white",
           "lakecolor": "white",
           "landcolor": "#E5ECF6",
           "showlakes": true,
           "showland": true,
           "subunitcolor": "white"
          },
          "hoverlabel": {
           "align": "left"
          },
          "hovermode": "closest",
          "mapbox": {
           "style": "light"
          },
          "paper_bgcolor": "white",
          "plot_bgcolor": "#E5ECF6",
          "polar": {
           "angularaxis": {
            "gridcolor": "white",
            "linecolor": "white",
            "ticks": ""
           },
           "bgcolor": "#E5ECF6",
           "radialaxis": {
            "gridcolor": "white",
            "linecolor": "white",
            "ticks": ""
           }
          },
          "scene": {
           "xaxis": {
            "backgroundcolor": "#E5ECF6",
            "gridcolor": "white",
            "gridwidth": 2,
            "linecolor": "white",
            "showbackground": true,
            "ticks": "",
            "zerolinecolor": "white"
           },
           "yaxis": {
            "backgroundcolor": "#E5ECF6",
            "gridcolor": "white",
            "gridwidth": 2,
            "linecolor": "white",
            "showbackground": true,
            "ticks": "",
            "zerolinecolor": "white"
           },
           "zaxis": {
            "backgroundcolor": "#E5ECF6",
            "gridcolor": "white",
            "gridwidth": 2,
            "linecolor": "white",
            "showbackground": true,
            "ticks": "",
            "zerolinecolor": "white"
           }
          },
          "shapedefaults": {
           "line": {
            "color": "#2a3f5f"
           }
          },
          "ternary": {
           "aaxis": {
            "gridcolor": "white",
            "linecolor": "white",
            "ticks": ""
           },
           "baxis": {
            "gridcolor": "white",
            "linecolor": "white",
            "ticks": ""
           },
           "bgcolor": "#E5ECF6",
           "caxis": {
            "gridcolor": "white",
            "linecolor": "white",
            "ticks": ""
           }
          },
          "title": {
           "x": 0.05
          },
          "xaxis": {
           "automargin": true,
           "gridcolor": "white",
           "linecolor": "white",
           "ticks": "",
           "title": {
            "standoff": 15
           },
           "zerolinecolor": "white",
           "zerolinewidth": 2
          },
          "yaxis": {
           "automargin": true,
           "gridcolor": "white",
           "linecolor": "white",
           "ticks": "",
           "title": {
            "standoff": 15
           },
           "zerolinecolor": "white",
           "zerolinewidth": 2
          }
         }
        },
        "title": {
         "text": "Матрица корреляции"
        },
        "width": 700,
        "xaxis": {
         "anchor": "y",
         "autorange": true,
         "constrain": "domain",
         "domain": [
          0,
          1
         ],
         "range": [
          -0.5,
          10.5
         ],
         "scaleanchor": "y",
         "title": {
          "text": "Признаки"
         },
         "type": "category"
        },
        "yaxis": {
         "anchor": "x",
         "autorange": true,
         "constrain": "domain",
         "domain": [
          0.09134615384615385,
          0.9086538461538461
         ],
         "range": [
          10.5,
          -0.5
         ],
         "title": {
          "text": "Признаки"
         },
         "type": "category"
        }
       }
      },
      "image/png": "[encoded data removed]",
      "text/html": [
       "<div>                            <div id=\"b56236f3-b766-42bd-a697-9f8ad3406699\" class=\"plotly-graph-div\" style=\"height:700px; width:700px;\"></div>            <script type=\"text/javascript\">                require([\"plotly\"], function(Plotly) {                    window.PLOTLYENV=window.PLOTLYENV || {};                                    if (document.getElementById(\"b56236f3-b766-42bd-a697-9f8ad3406699\")) {                    Plotly.newPlot(                        \"b56236f3-b766-42bd-a697-9f8ad3406699\",                        [{\"coloraxis\":\"coloraxis\",\"name\":\"0\",\"x\":[\"Id\",\"Genetics\",\"Hormonal_Changes\",\"Stress\",\"Age\",\"Poor_Hair_Care_Habits_\",\"Environmental_Factors\",\"Smoking\",\"Weight_Loss_\",\"Hair_Loss\",\"Age_group\"],\"y\":[\"Id\",\"Genetics\",\"Hormonal_Changes\",\"Stress\",\"Age\",\"Poor_Hair_Care_Habits_\",\"Environmental_Factors\",\"Smoking\",\"Weight_Loss_\",\"Hair_Loss\",\"Age_group\"],\"z\":[[1.0,0.03385289740917946,0.03614833541144947,0.004561358406168264,0.04988601561572856,-0.02318199745612798,0.017542522659184368,-0.018664108631970794,0.02094702909210322,0.0463673001676617,0.042242582898736704],[0.03385289740917946,1.0,-0.007873133776727815,-0.03450074850599384,-0.03725179543797816,-0.012350588255374233,0.03029963710508016,-0.032847903338327836,-0.00654561317592795,0.041308938948503494,-0.04588516302089458],[0.03614833541144947,-0.007873133776727815,1.0,-0.017262114079300322,-0.04417495496972752,-0.05078038876873193,-0.051391433725357,0.0223015703790999,-0.05409978457508602,0.007103571128379199,-0.06539667283944253],[0.004561358406168264,-0.03450074850599384,-0.017262114079300322,1.0,0.02375287608426173,-0.007570324708233425,-0.012304038714916823,0.010242270489613478,0.007057628126143808,-3.732527663917597e-05,0.020529668269097072],[0.04988601561572856,-0.03725179543797816,-0.04417495496972752,0.02375287608426173,1.0,0.012477262982839197,-0.004614038965655151,-0.0029218766766562895,0.01629466041882201,-0.06248097805951248,0.9369180727648756],[-0.02318199745612798,-0.012350588255374233,-0.05078038876873193,-0.007570324708233425,0.012477262982839197,1.0,0.0633348835297439,0.0055960731002348135,-0.001830636025505786,-0.039119089141348,0.03401050586627088],[0.017542522659184368,0.03029963710508016,-0.051391433725357,-0.012304038714916823,-0.004614038965655151,0.0633348835297439,1.0,0.012359895488346359,-0.004074901667423594,-0.018936827966429703,-0.011836074772434662],[-0.018664108631970794,-0.032847903338327836,0.0223015703790999,0.010242270489613478,-0.0029218766766562895,0.0055960731002348135,0.012359895488346359,1.0,-0.000855655603715433,-0.05690575872694462,-0.007326261886884353],[0.02094702909210322,-0.00654561317592795,-0.05409978457508602,0.007057628126143808,0.01629466041882201,-0.001830636025505786,-0.004074901667423594,-0.000855655603715433,1.0,0.044838059944479626,-0.008854969211938513],[0.0463673001676617,0.041308938948503494,0.007103571128379199,-3.732527663917597e-05,-0.06248097805951248,-0.039119089141348,-0.018936827966429703,-0.05690575872694462,0.044838059944479626,1.0,-0.06275957563117106],[0.042242582898736704,-0.04588516302089458,-0.06539667283944253,0.020529668269097072,0.9369180727648756,0.03401050586627088,-0.011836074772434662,-0.007326261886884353,-0.008854969211938513,-0.06275957563117106,1.0]],\"type\":\"heatmap\",\"xaxis\":\"x\",\"yaxis\":\"y\",\"hovertemplate\":\"\\u041f\\u0440\\u0438\\u0437\\u043d\\u0430\\u043a\\u0438: %{x}\\u003cbr\\u003e\\u041f\\u0440\\u0438\\u0437\\u043d\\u0430\\u043a\\u0438: %{y}\\u003cbr\\u003eCorr: %{z}\\u003cextra\\u003e\\u003c\\u002fextra\\u003e\"}],                        {\"template\":{\"data\":{\"histogram2dcontour\":[{\"type\":\"histogram2dcontour\",\"colorbar\":{\"outlinewidth\":0,\"ticks\":\"\"},\"colorscale\":[[0.0,\"#0d0887\"],[0.1111111111111111,\"#46039f\"],[0.2222222222222222,\"#7201a8\"],[0.3333333333333333,\"#9c179e\"],[0.4444444444444444,\"#bd3786\"],[0.5555555555555556,\"#d8576b\"],[0.6666666666666666,\"#ed7953\"],[0.7777777777777778,\"#fb9f3a\"],[0.8888888888888888,\"#fdca26\"],[1.0,\"#f0f921\"]]}],\"choropleth\":[{\"type\":\"choropleth\",\"colorbar\":{\"outlinewidth\":0,\"ticks\":\"\"}}],\"histogram2d\":[{\"type\":\"histogram2d\",\"colorbar\":{\"outlinewidth\":0,\"ticks\":\"\"},\"colorscale\":[[0.0,\"#0d0887\"],[0.1111111111111111,\"#46039f\"],[0.2222222222222222,\"#7201a8\"],[0.3333333333333333,\"#9c179e\"],[0.4444444444444444,\"#bd3786\"],[0.5555555555555556,\"#d8576b\"],[0.6666666666666666,\"#ed7953\"],[0.7777777777777778,\"#fb9f3a\"],[0.8888888888888888,\"#fdca26\"],[1.0,\"#f0f921\"]]}],\"heatmap\":[{\"type\":\"heatmap\",\"colorbar\":{\"outlinewidth\":0,\"ticks\":\"\"},\"colorscale\":[[0.0,\"#0d0887\"],[0.1111111111111111,\"#46039f\"],[0.2222222222222222,\"#7201a8\"],[0.3333333333333333,\"#9c179e\"],[0.4444444444444444,\"#bd3786\"],[0.5555555555555556,\"#d8576b\"],[0.6666666666666666,\"#ed7953\"],[0.7777777777777778,\"#fb9f3a\"],[0.8888888888888888,\"#fdca26\"],[1.0,\"#f0f921\"]]}],\"heatmapgl\":[{\"type\":\"heatmapgl\",\"colorbar\":{\"outlinewidth\":0,\"ticks\":\"\"},\"colorscale\":[[0.0,\"#0d0887\"],[0.1111111111111111,\"#46039f\"],[0.2222222222222222,\"#7201a8\"],[0.3333333333333333,\"#9c179e\"],[0.4444444444444444,\"#bd3786\"],[0.5555555555555556,\"#d8576b\"],[0.6666666666666666,\"#ed7953\"],[0.7777777777777778,\"#fb9f3a\"],[0.8888888888888888,\"#fdca26\"],[1.0,\"#f0f921\"]]}],\"contourcarpet\":[{\"type\":\"contourcarpet\",\"colorbar\":{\"outlinewidth\":0,\"ticks\":\"\"}}],\"contour\":[{\"type\":\"contour\",\"colorbar\":{\"outlinewidth\":0,\"ticks\":\"\"},\"colorscale\":[[0.0,\"#0d0887\"],[0.1111111111111111,\"#46039f\"],[0.2222222222222222,\"#7201a8\"],[0.3333333333333333,\"#9c179e\"],[0.4444444444444444,\"#bd3786\"],[0.5555555555555556,\"#d8576b\"],[0.6666666666666666,\"#ed7953\"],[0.7777777777777778,\"#fb9f3a\"],[0.8888888888888888,\"#fdca26\"],[1.0,\"#f0f921\"]]}],\"surface\":[{\"type\":\"surface\",\"colorbar\":{\"outlinewidth\":0,\"ticks\":\"\"},\"colorscale\":[[0.0,\"#0d0887\"],[0.1111111111111111,\"#46039f\"],[0.2222222222222222,\"#7201a8\"],[0.3333333333333333,\"#9c179e\"],[0.4444444444444444,\"#bd3786\"],[0.5555555555555556,\"#d8576b\"],[0.6666666666666666,\"#ed7953\"],[0.7777777777777778,\"#fb9f3a\"],[0.8888888888888888,\"#fdca26\"],[1.0,\"#f0f921\"]]}],\"mesh3d\":[{\"type\":\"mesh3d\",\"colorbar\":{\"outlinewidth\":0,\"ticks\":\"\"}}],\"scatter\":[{\"fillpattern\":{\"fillmode\":\"overlay\",\"size\":10,\"solidity\":0.2},\"type\":\"scatter\"}],\"parcoords\":[{\"type\":\"parcoords\",\"line\":{\"colorbar\":{\"outlinewidth\":0,\"ticks\":\"\"}}}],\"scatterpolargl\":[{\"type\":\"scatterpolargl\",\"marker\":{\"colorbar\":{\"outlinewidth\":0,\"ticks\":\"\"}}}],\"bar\":[{\"error_x\":{\"color\":\"#2a3f5f\"},\"error_y\":{\"color\":\"#2a3f5f\"},\"marker\":{\"line\":{\"color\":\"#E5ECF6\",\"width\":0.5},\"pattern\":{\"fillmode\":\"overlay\",\"size\":10,\"solidity\":0.2}},\"type\":\"bar\"}],\"scattergeo\":[{\"type\":\"scattergeo\",\"marker\":{\"colorbar\":{\"outlinewidth\":0,\"ticks\":\"\"}}}],\"scatterpolar\":[{\"type\":\"scatterpolar\",\"marker\":{\"colorbar\":{\"outlinewidth\":0,\"ticks\":\"\"}}}],\"histogram\":[{\"marker\":{\"pattern\":{\"fillmode\":\"overlay\",\"size\":10,\"solidity\":0.2}},\"type\":\"histogram\"}],\"scattergl\":[{\"type\":\"scattergl\",\"marker\":{\"colorbar\":{\"outlinewidth\":0,\"ticks\":\"\"}}}],\"scatter3d\":[{\"type\":\"scatter3d\",\"line\":{\"colorbar\":{\"outlinewidth\":0,\"ticks\":\"\"}},\"marker\":{\"colorbar\":{\"outlinewidth\":0,\"ticks\":\"\"}}}],\"scattermapbox\":[{\"type\":\"scattermapbox\",\"marker\":{\"colorbar\":{\"outlinewidth\":0,\"ticks\":\"\"}}}],\"scatterternary\":[{\"type\":\"scatterternary\",\"marker\":{\"colorbar\":{\"outlinewidth\":0,\"ticks\":\"\"}}}],\"scattercarpet\":[{\"type\":\"scattercarpet\",\"marker\":{\"colorbar\":{\"outlinewidth\":0,\"ticks\":\"\"}}}],\"carpet\":[{\"aaxis\":{\"endlinecolor\":\"#2a3f5f\",\"gridcolor\":\"white\",\"linecolor\":\"white\",\"minorgridcolor\":\"white\",\"startlinecolor\":\"#2a3f5f\"},\"baxis\":{\"endlinecolor\":\"#2a3f5f\",\"gridcolor\":\"white\",\"linecolor\":\"white\",\"minorgridcolor\":\"white\",\"startlinecolor\":\"#2a3f5f\"},\"type\":\"carpet\"}],\"table\":[{\"cells\":{\"fill\":{\"color\":\"#EBF0F8\"},\"line\":{\"color\":\"white\"}},\"header\":{\"fill\":{\"color\":\"#C8D4E3\"},\"line\":{\"color\":\"white\"}},\"type\":\"table\"}],\"barpolar\":[{\"marker\":{\"line\":{\"color\":\"#E5ECF6\",\"width\":0.5},\"pattern\":{\"fillmode\":\"overlay\",\"size\":10,\"solidity\":0.2}},\"type\":\"barpolar\"}],\"pie\":[{\"automargin\":true,\"type\":\"pie\"}]},\"layout\":{\"autotypenumbers\":\"strict\",\"colorway\":[\"#636efa\",\"#EF553B\",\"#00cc96\",\"#ab63fa\",\"#FFA15A\",\"#19d3f3\",\"#FF6692\",\"#B6E880\",\"#FF97FF\",\"#FECB52\"],\"font\":{\"color\":\"#2a3f5f\"},\"hovermode\":\"closest\",\"hoverlabel\":{\"align\":\"left\"},\"paper_bgcolor\":\"white\",\"plot_bgcolor\":\"#E5ECF6\",\"polar\":{\"bgcolor\":\"#E5ECF6\",\"angularaxis\":{\"gridcolor\":\"white\",\"linecolor\":\"white\",\"ticks\":\"\"},\"radialaxis\":{\"gridcolor\":\"white\",\"linecolor\":\"white\",\"ticks\":\"\"}},\"ternary\":{\"bgcolor\":\"#E5ECF6\",\"aaxis\":{\"gridcolor\":\"white\",\"linecolor\":\"white\",\"ticks\":\"\"},\"baxis\":{\"gridcolor\":\"white\",\"linecolor\":\"white\",\"ticks\":\"\"},\"caxis\":{\"gridcolor\":\"white\",\"linecolor\":\"white\",\"ticks\":\"\"}},\"coloraxis\":{\"colorbar\":{\"outlinewidth\":0,\"ticks\":\"\"}},\"colorscale\":{\"sequential\":[[0.0,\"#0d0887\"],[0.1111111111111111,\"#46039f\"],[0.2222222222222222,\"#7201a8\"],[0.3333333333333333,\"#9c179e\"],[0.4444444444444444,\"#bd3786\"],[0.5555555555555556,\"#d8576b\"],[0.6666666666666666,\"#ed7953\"],[0.7777777777777778,\"#fb9f3a\"],[0.8888888888888888,\"#fdca26\"],[1.0,\"#f0f921\"]],\"sequentialminus\":[[0.0,\"#0d0887\"],[0.1111111111111111,\"#46039f\"],[0.2222222222222222,\"#7201a8\"],[0.3333333333333333,\"#9c179e\"],[0.4444444444444444,\"#bd3786\"],[0.5555555555555556,\"#d8576b\"],[0.6666666666666666,\"#ed7953\"],[0.7777777777777778,\"#fb9f3a\"],[0.8888888888888888,\"#fdca26\"],[1.0,\"#f0f921\"]],\"diverging\":[[0,\"#8e0152\"],[0.1,\"#c51b7d\"],[0.2,\"#de77ae\"],[0.3,\"#f1b6da\"],[0.4,\"#fde0ef\"],[0.5,\"#f7f7f7\"],[0.6,\"#e6f5d0\"],[0.7,\"#b8e186\"],[0.8,\"#7fbc41\"],[0.9,\"#4d9221\"],[1,\"#276419\"]]},\"xaxis\":{\"gridcolor\":\"white\",\"linecolor\":\"white\",\"ticks\":\"\",\"title\":{\"standoff\":15},\"zerolinecolor\":\"white\",\"automargin\":true,\"zerolinewidth\":2},\"yaxis\":{\"gridcolor\":\"white\",\"linecolor\":\"white\",\"ticks\":\"\",\"title\":{\"standoff\":15},\"zerolinecolor\":\"white\",\"automargin\":true,\"zerolinewidth\":2},\"scene\":{\"xaxis\":{\"backgroundcolor\":\"#E5ECF6\",\"gridcolor\":\"white\",\"linecolor\":\"white\",\"showbackground\":true,\"ticks\":\"\",\"zerolinecolor\":\"white\",\"gridwidth\":2},\"yaxis\":{\"backgroundcolor\":\"#E5ECF6\",\"gridcolor\":\"white\",\"linecolor\":\"white\",\"showbackground\":true,\"ticks\":\"\",\"zerolinecolor\":\"white\",\"gridwidth\":2},\"zaxis\":{\"backgroundcolor\":\"#E5ECF6\",\"gridcolor\":\"white\",\"linecolor\":\"white\",\"showbackground\":true,\"ticks\":\"\",\"zerolinecolor\":\"white\",\"gridwidth\":2}},\"shapedefaults\":{\"line\":{\"color\":\"#2a3f5f\"}},\"annotationdefaults\":{\"arrowcolor\":\"#2a3f5f\",\"arrowhead\":0,\"arrowwidth\":1},\"geo\":{\"bgcolor\":\"white\",\"landcolor\":\"#E5ECF6\",\"subunitcolor\":\"white\",\"showland\":true,\"showlakes\":true,\"lakecolor\":\"white\"},\"title\":{\"x\":0.05},\"mapbox\":{\"style\":\"light\"}}},\"xaxis\":{\"anchor\":\"y\",\"domain\":[0.0,1.0],\"scaleanchor\":\"y\",\"constrain\":\"domain\",\"title\":{\"text\":\"\\u041f\\u0440\\u0438\\u0437\\u043d\\u0430\\u043a\\u0438\"}},\"yaxis\":{\"anchor\":\"x\",\"domain\":[0.0,1.0],\"autorange\":\"reversed\",\"constrain\":\"domain\",\"title\":{\"text\":\"\\u041f\\u0440\\u0438\\u0437\\u043d\\u0430\\u043a\\u0438\"}},\"coloraxis\":{\"colorbar\":{\"title\":{\"text\":\"Corr\"}},\"colorscale\":[[0.0,\"rgb(247,252,245)\"],[0.125,\"rgb(229,245,224)\"],[0.25,\"rgb(199,233,192)\"],[0.375,\"rgb(161,217,155)\"],[0.5,\"rgb(116,196,118)\"],[0.625,\"rgb(65,171,93)\"],[0.75,\"rgb(35,139,69)\"],[0.875,\"rgb(0,109,44)\"],[1.0,\"rgb(0,68,27)\"]]},\"title\":{\"text\":\"\\u041c\\u0430\\u0442\\u0440\\u0438\\u0446\\u0430 \\u043a\\u043e\\u0440\\u0440\\u0435\\u043b\\u044f\\u0446\\u0438\\u0438\"},\"height\":700,\"width\":700},                        {\"responsive\": true}                    ).then(function(){\n",
       "                            \n",
       "var gd = document.getElementById('b56236f3-b766-42bd-a697-9f8ad3406699');\n",
       "var x = new MutationObserver(function (mutations, observer) {{\n",
       "        var display = window.getComputedStyle(gd).display;\n",
       "        if (!display || display === 'none') {{\n",
       "            console.log([gd, 'removed!']);\n",
       "            Plotly.purge(gd);\n",
       "            observer.disconnect();\n",
       "        }}\n",
       "}});\n",
       "\n",
       "// Listen for the removal of the full notebook cells\n",
       "var notebookContainer = gd.closest('#notebook-container');\n",
       "if (notebookContainer) {{\n",
       "    x.observe(notebookContainer, {childList: true});\n",
       "}}\n",
       "\n",
       "// Listen for the clearing of the current output cell\n",
       "var outputEl = gd.closest('.output');\n",
       "if (outputEl) {{\n",
       "    x.observe(outputEl, {childList: true});\n",
       "}}\n",
       "\n",
       "                        })                };                });            </script>        </div>"
      ]
     },
     "metadata": {},
     "output_type": "display_data"
    }
   ],
   "source": [
    "num_cols = df_forAnalisys.select_dtypes(include=['number']).columns\n",
    "corr_matrix = df_forAnalisys[num_cols].corr(method='pearson')\n",
    "\n",
    "fig = px.imshow(\n",
    "    corr_matrix.values,\n",
    "    x = corr_matrix.columns,\n",
    "    y = corr_matrix.index,\n",
    "    color_continuous_scale='Greens',\n",
    "    title='Матрица корреляции',\n",
    "    labels=dict(x=\"Признаки\", y=\"Признаки\", color=\"Corr\"),\n",
    "    height = 700,\n",
    "    width = 700\n",
    ")\n",
    "\n",
    "fig.show()"
   ]
  },
  {
   "cell_type": "code",
   "execution_count": 77,
   "id": "8b54fd33-f8ea-430b-afe9-2a03ddd4ab13",
   "metadata": {},
   "outputs": [],
   "source": [
    "from phik import phik_matrix"
   ]
  },
  {
   "cell_type": "code",
   "execution_count": 105,
   "id": "21f4ee26-077b-4f36-9caf-cea0159d40d9",
   "metadata": {},
   "outputs": [
    {
     "name": "stdout",
     "output_type": "stream",
     "text": [
      "interval columns not set, guessing: ['Id', 'Genetics', 'Hormonal_Changes', 'Stress', 'Age', 'Poor_Hair_Care_Habits_', 'Environmental_Factors', 'Smoking', 'Weight_Loss_', 'Hair_Loss', 'Age_group']\n"
     ]
    },
    {
     "data": {
      "application/vnd.plotly.v1+json": {
       "config": {
        "plotlyServerURL": "https://plot.ly"
       },
       "data": [
        {
         "coloraxis": "coloraxis",
         "hovertemplate": "Признаки: %{x}<br>Признаки: %{y}<br>Phik: %{z}<extra></extra>",
         "name": "0",
         "type": "heatmap",
         "x": [
          "Id",
          "Genetics",
          "Hormonal_Changes",
          "Medical_Conditions",
          "Medications_&_Treatments",
          "Nutritional_Deficiencies_",
          "Stress",
          "Age",
          "Poor_Hair_Care_Habits_",
          "Environmental_Factors",
          "Smoking",
          "Weight_Loss_",
          "Hair_Loss",
          "Age_group"
         ],
         "xaxis": "x",
         "y": [
          "Id",
          "Genetics",
          "Hormonal_Changes",
          "Medical_Conditions",
          "Medications_&_Treatments",
          "Nutritional_Deficiencies_",
          "Stress",
          "Age",
          "Poor_Hair_Care_Habits_",
          "Environmental_Factors",
          "Smoking",
          "Weight_Loss_",
          "Hair_Loss",
          "Age_group"
         ],
         "yaxis": "y",
         "z": [
          [
           1,
           0,
           0.10937855227778646,
           0,
           0.05221467927079882,
           0.08451767973372673,
           0,
           0,
           0.06547844134579657,
           0,
           0,
           0,
           0.08498211936881458,
           0.024528758523285128
          ],
          [
           0,
           1,
           0,
           0,
           0.10726274027905167,
           0,
           0,
           0,
           0,
           0,
           0,
           0,
           0.03664263540863495,
           0.010818704557578962
          ],
          [
           0.10937855227778646,
           0,
           1,
           0,
           0,
           0.07511732463388421,
           0.006627795011761823,
           0.07183602782389681,
           0.05831256034077012,
           0.05956633471884019,
           0,
           0.0649965641231078,
           0,
           0.03532840337230355
          ],
          [
           0,
           0,
           0,
           1,
           0,
           0.07951706925007593,
           0.3100369279876613,
           0.38500837581219033,
           0.038205532327151556,
           0,
           0,
           0,
           0,
           0.1785758624003529
          ],
          [
           0.05221467927079882,
           0.10726274027905167,
           0,
           0,
           1,
           0.039760207569680836,
           0,
           0,
           0,
           0,
           0.021043044560130474,
           0.022028905066370945,
           0,
           0
          ],
          [
           0.08451767973372673,
           0,
           0.07511732463388421,
           0.07951706925007593,
           0.039760207569680836,
           1,
           0.06262802363077918,
           0.4669849436844492,
           0.04680120352205263,
           0.03674858752305071,
           0,
           0,
           0,
           0.41188777594516135
          ],
          [
           0,
           0,
           0.006627795011761823,
           0.3100369279876613,
           0,
           0.06262802363077918,
           1,
           0.0836494791483897,
           0,
           0.017933455512161595,
           0.0421860364908508,
           0,
           0,
           0.0789654693519008
          ],
          [
           0,
           0,
           0.07183602782389681,
           0.38500837581219033,
           0,
           0.4669849436844492,
           0.0836494791483897,
           1,
           0.07521360086350222,
           0,
           0,
           0.09166521640746224,
           0.11211715781801739,
           1
          ],
          [
           0.06547844134579657,
           0,
           0.05831256034077012,
           0.038205532327151556,
           0,
           0.04680120352205263,
           0,
           0.07521360086350222,
           1,
           0.08248327275312536,
           0,
           0,
           0.03049755630522148,
           0
          ],
          [
           0,
           0,
           0.05956633471884019,
           0,
           0,
           0.03674858752305071,
           0.017933455512161595,
           0,
           0.08248327275312536,
           1,
           0,
           0,
           0,
           0
          ],
          [
           0,
           0,
           0,
           0,
           0.021043044560130474,
           0,
           0.0421860364908508,
           0,
           0,
           0,
           1,
           0,
           0.0704578313486661,
           0
          ],
          [
           0,
           0,
           0.0649965641231078,
           0,
           0.022028905066370945,
           0,
           0,
           0.09166521640746224,
           0,
           0,
           0,
           1,
           0.04535921241437066,
           0
          ],
          [
           0.08498211936881458,
           0.03664263540863495,
           0,
           0,
           0,
           0,
           0,
           0.11211715781801739,
           0.03049755630522148,
           0,
           0.0704578313486661,
           0.04535921241437066,
           1,
           0.048670977331587116
          ],
          [
           0.024528758523285128,
           0.010818704557578962,
           0.03532840337230355,
           0.1785758624003529,
           0,
           0.41188777594516135,
           0.0789654693519008,
           1,
           0,
           0,
           0,
           0,
           0.048670977331587116,
           1
          ]
         ]
        }
       ],
       "layout": {
        "coloraxis": {
         "colorbar": {
          "title": {
           "text": "Phik"
          }
         },
         "colorscale": [
          [
           0,
           "rgb(247,252,245)"
          ],
          [
           0.125,
           "rgb(229,245,224)"
          ],
          [
           0.25,
           "rgb(199,233,192)"
          ],
          [
           0.375,
           "rgb(161,217,155)"
          ],
          [
           0.5,
           "rgb(116,196,118)"
          ],
          [
           0.625,
           "rgb(65,171,93)"
          ],
          [
           0.75,
           "rgb(35,139,69)"
          ],
          [
           0.875,
           "rgb(0,109,44)"
          ],
          [
           1,
           "rgb(0,68,27)"
          ]
         ]
        },
        "height": 700,
        "template": {
         "data": {
          "bar": [
           {
            "error_x": {
             "color": "#2a3f5f"
            },
            "error_y": {
             "color": "#2a3f5f"
            },
            "marker": {
             "line": {
              "color": "#E5ECF6",
              "width": 0.5
             },
             "pattern": {
              "fillmode": "overlay",
              "size": 10,
              "solidity": 0.2
             }
            },
            "type": "bar"
           }
          ],
          "barpolar": [
           {
            "marker": {
             "line": {
              "color": "#E5ECF6",
              "width": 0.5
             },
             "pattern": {
              "fillmode": "overlay",
              "size": 10,
              "solidity": 0.2
             }
            },
            "type": "barpolar"
           }
          ],
          "carpet": [
           {
            "aaxis": {
             "endlinecolor": "#2a3f5f",
             "gridcolor": "white",
             "linecolor": "white",
             "minorgridcolor": "white",
             "startlinecolor": "#2a3f5f"
            },
            "baxis": {
             "endlinecolor": "#2a3f5f",
             "gridcolor": "white",
             "linecolor": "white",
             "minorgridcolor": "white",
             "startlinecolor": "#2a3f5f"
            },
            "type": "carpet"
           }
          ],
          "choropleth": [
           {
            "colorbar": {
             "outlinewidth": 0,
             "ticks": ""
            },
            "type": "choropleth"
           }
          ],
          "contour": [
           {
            "colorbar": {
             "outlinewidth": 0,
             "ticks": ""
            },
            "colorscale": [
             [
              0,
              "#0d0887"
             ],
             [
              0.1111111111111111,
              "#46039f"
             ],
             [
              0.2222222222222222,
              "#7201a8"
             ],
             [
              0.3333333333333333,
              "#9c179e"
             ],
             [
              0.4444444444444444,
              "#bd3786"
             ],
             [
              0.5555555555555556,
              "#d8576b"
             ],
             [
              0.6666666666666666,
              "#ed7953"
             ],
             [
              0.7777777777777778,
              "#fb9f3a"
             ],
             [
              0.8888888888888888,
              "#fdca26"
             ],
             [
              1,
              "#f0f921"
             ]
            ],
            "type": "contour"
           }
          ],
          "contourcarpet": [
           {
            "colorbar": {
             "outlinewidth": 0,
             "ticks": ""
            },
            "type": "contourcarpet"
           }
          ],
          "heatmap": [
           {
            "colorbar": {
             "outlinewidth": 0,
             "ticks": ""
            },
            "colorscale": [
             [
              0,
              "#0d0887"
             ],
             [
              0.1111111111111111,
              "#46039f"
             ],
             [
              0.2222222222222222,
              "#7201a8"
             ],
             [
              0.3333333333333333,
              "#9c179e"
             ],
             [
              0.4444444444444444,
              "#bd3786"
             ],
             [
              0.5555555555555556,
              "#d8576b"
             ],
             [
              0.6666666666666666,
              "#ed7953"
             ],
             [
              0.7777777777777778,
              "#fb9f3a"
             ],
             [
              0.8888888888888888,
              "#fdca26"
             ],
             [
              1,
              "#f0f921"
             ]
            ],
            "type": "heatmap"
           }
          ],
          "heatmapgl": [
           {
            "colorbar": {
             "outlinewidth": 0,
             "ticks": ""
            },
            "colorscale": [
             [
              0,
              "#0d0887"
             ],
             [
              0.1111111111111111,
              "#46039f"
             ],
             [
              0.2222222222222222,
              "#7201a8"
             ],
             [
              0.3333333333333333,
              "#9c179e"
             ],
             [
              0.4444444444444444,
              "#bd3786"
             ],
             [
              0.5555555555555556,
              "#d8576b"
             ],
             [
              0.6666666666666666,
              "#ed7953"
             ],
             [
              0.7777777777777778,
              "#fb9f3a"
             ],
             [
              0.8888888888888888,
              "#fdca26"
             ],
             [
              1,
              "#f0f921"
             ]
            ],
            "type": "heatmapgl"
           }
          ],
          "histogram": [
           {
            "marker": {
             "pattern": {
              "fillmode": "overlay",
              "size": 10,
              "solidity": 0.2
             }
            },
            "type": "histogram"
           }
          ],
          "histogram2d": [
           {
            "colorbar": {
             "outlinewidth": 0,
             "ticks": ""
            },
            "colorscale": [
             [
              0,
              "#0d0887"
             ],
             [
              0.1111111111111111,
              "#46039f"
             ],
             [
              0.2222222222222222,
              "#7201a8"
             ],
             [
              0.3333333333333333,
              "#9c179e"
             ],
             [
              0.4444444444444444,
              "#bd3786"
             ],
             [
              0.5555555555555556,
              "#d8576b"
             ],
             [
              0.6666666666666666,
              "#ed7953"
             ],
             [
              0.7777777777777778,
              "#fb9f3a"
             ],
             [
              0.8888888888888888,
              "#fdca26"
             ],
             [
              1,
              "#f0f921"
             ]
            ],
            "type": "histogram2d"
           }
          ],
          "histogram2dcontour": [
           {
            "colorbar": {
             "outlinewidth": 0,
             "ticks": ""
            },
            "colorscale": [
             [
              0,
              "#0d0887"
             ],
             [
              0.1111111111111111,
              "#46039f"
             ],
             [
              0.2222222222222222,
              "#7201a8"
             ],
             [
              0.3333333333333333,
              "#9c179e"
             ],
             [
              0.4444444444444444,
              "#bd3786"
             ],
             [
              0.5555555555555556,
              "#d8576b"
             ],
             [
              0.6666666666666666,
              "#ed7953"
             ],
             [
              0.7777777777777778,
              "#fb9f3a"
             ],
             [
              0.8888888888888888,
              "#fdca26"
             ],
             [
              1,
              "#f0f921"
             ]
            ],
            "type": "histogram2dcontour"
           }
          ],
          "mesh3d": [
           {
            "colorbar": {
             "outlinewidth": 0,
             "ticks": ""
            },
            "type": "mesh3d"
           }
          ],
          "parcoords": [
           {
            "line": {
             "colorbar": {
              "outlinewidth": 0,
              "ticks": ""
             }
            },
            "type": "parcoords"
           }
          ],
          "pie": [
           {
            "automargin": true,
            "type": "pie"
           }
          ],
          "scatter": [
           {
            "fillpattern": {
             "fillmode": "overlay",
             "size": 10,
             "solidity": 0.2
            },
            "type": "scatter"
           }
          ],
          "scatter3d": [
           {
            "line": {
             "colorbar": {
              "outlinewidth": 0,
              "ticks": ""
             }
            },
            "marker": {
             "colorbar": {
              "outlinewidth": 0,
              "ticks": ""
             }
            },
            "type": "scatter3d"
           }
          ],
          "scattercarpet": [
           {
            "marker": {
             "colorbar": {
              "outlinewidth": 0,
              "ticks": ""
             }
            },
            "type": "scattercarpet"
           }
          ],
          "scattergeo": [
           {
            "marker": {
             "colorbar": {
              "outlinewidth": 0,
              "ticks": ""
             }
            },
            "type": "scattergeo"
           }
          ],
          "scattergl": [
           {
            "marker": {
             "colorbar": {
              "outlinewidth": 0,
              "ticks": ""
             }
            },
            "type": "scattergl"
           }
          ],
          "scattermapbox": [
           {
            "marker": {
             "colorbar": {
              "outlinewidth": 0,
              "ticks": ""
             }
            },
            "type": "scattermapbox"
           }
          ],
          "scatterpolar": [
           {
            "marker": {
             "colorbar": {
              "outlinewidth": 0,
              "ticks": ""
             }
            },
            "type": "scatterpolar"
           }
          ],
          "scatterpolargl": [
           {
            "marker": {
             "colorbar": {
              "outlinewidth": 0,
              "ticks": ""
             }
            },
            "type": "scatterpolargl"
           }
          ],
          "scatterternary": [
           {
            "marker": {
             "colorbar": {
              "outlinewidth": 0,
              "ticks": ""
             }
            },
            "type": "scatterternary"
           }
          ],
          "surface": [
           {
            "colorbar": {
             "outlinewidth": 0,
             "ticks": ""
            },
            "colorscale": [
             [
              0,
              "#0d0887"
             ],
             [
              0.1111111111111111,
              "#46039f"
             ],
             [
              0.2222222222222222,
              "#7201a8"
             ],
             [
              0.3333333333333333,
              "#9c179e"
             ],
             [
              0.4444444444444444,
              "#bd3786"
             ],
             [
              0.5555555555555556,
              "#d8576b"
             ],
             [
              0.6666666666666666,
              "#ed7953"
             ],
             [
              0.7777777777777778,
              "#fb9f3a"
             ],
             [
              0.8888888888888888,
              "#fdca26"
             ],
             [
              1,
              "#f0f921"
             ]
            ],
            "type": "surface"
           }
          ],
          "table": [
           {
            "cells": {
             "fill": {
              "color": "#EBF0F8"
             },
             "line": {
              "color": "white"
             }
            },
            "header": {
             "fill": {
              "color": "#C8D4E3"
             },
             "line": {
              "color": "white"
             }
            },
            "type": "table"
           }
          ]
         },
         "layout": {
          "annotationdefaults": {
           "arrowcolor": "#2a3f5f",
           "arrowhead": 0,
           "arrowwidth": 1
          },
          "autotypenumbers": "strict",
          "coloraxis": {
           "colorbar": {
            "outlinewidth": 0,
            "ticks": ""
           }
          },
          "colorscale": {
           "diverging": [
            [
             0,
             "#8e0152"
            ],
            [
             0.1,
             "#c51b7d"
            ],
            [
             0.2,
             "#de77ae"
            ],
            [
             0.3,
             "#f1b6da"
            ],
            [
             0.4,
             "#fde0ef"
            ],
            [
             0.5,
             "#f7f7f7"
            ],
            [
             0.6,
             "#e6f5d0"
            ],
            [
             0.7,
             "#b8e186"
            ],
            [
             0.8,
             "#7fbc41"
            ],
            [
             0.9,
             "#4d9221"
            ],
            [
             1,
             "#276419"
            ]
           ],
           "sequential": [
            [
             0,
             "#0d0887"
            ],
            [
             0.1111111111111111,
             "#46039f"
            ],
            [
             0.2222222222222222,
             "#7201a8"
            ],
            [
             0.3333333333333333,
             "#9c179e"
            ],
            [
             0.4444444444444444,
             "#bd3786"
            ],
            [
             0.5555555555555556,
             "#d8576b"
            ],
            [
             0.6666666666666666,
             "#ed7953"
            ],
            [
             0.7777777777777778,
             "#fb9f3a"
            ],
            [
             0.8888888888888888,
             "#fdca26"
            ],
            [
             1,
             "#f0f921"
            ]
           ],
           "sequentialminus": [
            [
             0,
             "#0d0887"
            ],
            [
             0.1111111111111111,
             "#46039f"
            ],
            [
             0.2222222222222222,
             "#7201a8"
            ],
            [
             0.3333333333333333,
             "#9c179e"
            ],
            [
             0.4444444444444444,
             "#bd3786"
            ],
            [
             0.5555555555555556,
             "#d8576b"
            ],
            [
             0.6666666666666666,
             "#ed7953"
            ],
            [
             0.7777777777777778,
             "#fb9f3a"
            ],
            [
             0.8888888888888888,
             "#fdca26"
            ],
            [
             1,
             "#f0f921"
            ]
           ]
          },
          "colorway": [
           "#636efa",
           "#EF553B",
           "#00cc96",
           "#ab63fa",
           "#FFA15A",
           "#19d3f3",
           "#FF6692",
           "#B6E880",
           "#FF97FF",
           "#FECB52"
          ],
          "font": {
           "color": "#2a3f5f"
          },
          "geo": {
           "bgcolor": "white",
           "lakecolor": "white",
           "landcolor": "#E5ECF6",
           "showlakes": true,
           "showland": true,
           "subunitcolor": "white"
          },
          "hoverlabel": {
           "align": "left"
          },
          "hovermode": "closest",
          "mapbox": {
           "style": "light"
          },
          "paper_bgcolor": "white",
          "plot_bgcolor": "#E5ECF6",
          "polar": {
           "angularaxis": {
            "gridcolor": "white",
            "linecolor": "white",
            "ticks": ""
           },
           "bgcolor": "#E5ECF6",
           "radialaxis": {
            "gridcolor": "white",
            "linecolor": "white",
            "ticks": ""
           }
          },
          "scene": {
           "xaxis": {
            "backgroundcolor": "#E5ECF6",
            "gridcolor": "white",
            "gridwidth": 2,
            "linecolor": "white",
            "showbackground": true,
            "ticks": "",
            "zerolinecolor": "white"
           },
           "yaxis": {
            "backgroundcolor": "#E5ECF6",
            "gridcolor": "white",
            "gridwidth": 2,
            "linecolor": "white",
            "showbackground": true,
            "ticks": "",
            "zerolinecolor": "white"
           },
           "zaxis": {
            "backgroundcolor": "#E5ECF6",
            "gridcolor": "white",
            "gridwidth": 2,
            "linecolor": "white",
            "showbackground": true,
            "ticks": "",
            "zerolinecolor": "white"
           }
          },
          "shapedefaults": {
           "line": {
            "color": "#2a3f5f"
           }
          },
          "ternary": {
           "aaxis": {
            "gridcolor": "white",
            "linecolor": "white",
            "ticks": ""
           },
           "baxis": {
            "gridcolor": "white",
            "linecolor": "white",
            "ticks": ""
           },
           "bgcolor": "#E5ECF6",
           "caxis": {
            "gridcolor": "white",
            "linecolor": "white",
            "ticks": ""
           }
          },
          "title": {
           "x": 0.05
          },
          "xaxis": {
           "automargin": true,
           "gridcolor": "white",
           "linecolor": "white",
           "ticks": "",
           "title": {
            "standoff": 15
           },
           "zerolinecolor": "white",
           "zerolinewidth": 2
          },
          "yaxis": {
           "automargin": true,
           "gridcolor": "white",
           "linecolor": "white",
           "ticks": "",
           "title": {
            "standoff": 15
           },
           "zerolinecolor": "white",
           "zerolinewidth": 2
          }
         }
        },
        "title": {
         "text": "Матрица корреляции Phik"
        },
        "width": 700,
        "xaxis": {
         "anchor": "y",
         "autorange": true,
         "constrain": "domain",
         "domain": [
          0,
          1
         ],
         "range": [
          -0.5,
          13.5
         ],
         "scaleanchor": "y",
         "title": {
          "text": "Признаки"
         },
         "type": "category"
        },
        "yaxis": {
         "anchor": "x",
         "autorange": true,
         "constrain": "domain",
         "domain": [
          0.10576923076923084,
          0.8942307692307692
         ],
         "range": [
          13.5,
          -0.5
         ],
         "title": {
          "text": "Признаки"
         },
         "type": "category"
        }
       }
      },
      "image/png": "[encoded data removed]",
      "text/html": [
       "<div>                            <div id=\"3eef3d5f-023b-4fcf-86ea-6932f4df45d0\" class=\"plotly-graph-div\" style=\"height:700px; width:700px;\"></div>            <script type=\"text/javascript\">                require([\"plotly\"], function(Plotly) {                    window.PLOTLYENV=window.PLOTLYENV || {};                                    if (document.getElementById(\"3eef3d5f-023b-4fcf-86ea-6932f4df45d0\")) {                    Plotly.newPlot(                        \"3eef3d5f-023b-4fcf-86ea-6932f4df45d0\",                        [{\"coloraxis\":\"coloraxis\",\"name\":\"0\",\"x\":[\"Id\",\"Genetics\",\"Hormonal_Changes\",\"Medical_Conditions\",\"Medications_&_Treatments\",\"Nutritional_Deficiencies_\",\"Stress\",\"Age\",\"Poor_Hair_Care_Habits_\",\"Environmental_Factors\",\"Smoking\",\"Weight_Loss_\",\"Hair_Loss\",\"Age_group\"],\"y\":[\"Id\",\"Genetics\",\"Hormonal_Changes\",\"Medical_Conditions\",\"Medications_&_Treatments\",\"Nutritional_Deficiencies_\",\"Stress\",\"Age\",\"Poor_Hair_Care_Habits_\",\"Environmental_Factors\",\"Smoking\",\"Weight_Loss_\",\"Hair_Loss\",\"Age_group\"],\"z\":[[1.0,0.0,0.10937855227778646,0.0,0.05221467927079882,0.08451767973372673,0.0,0.0,0.06547844134579657,0.0,0.0,0.0,0.08498211936881458,0.024528758523285128],[0.0,1.0,0.0,0.0,0.10726274027905167,0.0,0.0,0.0,0.0,0.0,0.0,0.0,0.03664263540863495,0.010818704557578962],[0.10937855227778646,0.0,1.0,0.0,0.0,0.07511732463388421,0.006627795011761823,0.07183602782389681,0.05831256034077012,0.05956633471884019,0.0,0.0649965641231078,0.0,0.03532840337230355],[0.0,0.0,0.0,1.0,0.0,0.07951706925007593,0.3100369279876613,0.38500837581219033,0.038205532327151556,0.0,0.0,0.0,0.0,0.1785758624003529],[0.05221467927079882,0.10726274027905167,0.0,0.0,1.0,0.039760207569680836,0.0,0.0,0.0,0.0,0.021043044560130474,0.022028905066370945,0.0,0.0],[0.08451767973372673,0.0,0.07511732463388421,0.07951706925007593,0.039760207569680836,1.0,0.06262802363077918,0.4669849436844492,0.04680120352205263,0.03674858752305071,0.0,0.0,0.0,0.41188777594516135],[0.0,0.0,0.006627795011761823,0.3100369279876613,0.0,0.06262802363077918,1.0,0.0836494791483897,0.0,0.017933455512161595,0.0421860364908508,0.0,0.0,0.0789654693519008],[0.0,0.0,0.07183602782389681,0.38500837581219033,0.0,0.4669849436844492,0.0836494791483897,1.0,0.07521360086350222,0.0,0.0,0.09166521640746224,0.11211715781801739,1.0],[0.06547844134579657,0.0,0.05831256034077012,0.038205532327151556,0.0,0.04680120352205263,0.0,0.07521360086350222,1.0,0.08248327275312536,0.0,0.0,0.03049755630522148,0.0],[0.0,0.0,0.05956633471884019,0.0,0.0,0.03674858752305071,0.017933455512161595,0.0,0.08248327275312536,1.0,0.0,0.0,0.0,0.0],[0.0,0.0,0.0,0.0,0.021043044560130474,0.0,0.0421860364908508,0.0,0.0,0.0,1.0,0.0,0.0704578313486661,0.0],[0.0,0.0,0.0649965641231078,0.0,0.022028905066370945,0.0,0.0,0.09166521640746224,0.0,0.0,0.0,1.0,0.04535921241437066,0.0],[0.08498211936881458,0.03664263540863495,0.0,0.0,0.0,0.0,0.0,0.11211715781801739,0.03049755630522148,0.0,0.0704578313486661,0.04535921241437066,1.0,0.048670977331587116],[0.024528758523285128,0.010818704557578962,0.03532840337230355,0.1785758624003529,0.0,0.41188777594516135,0.0789654693519008,1.0,0.0,0.0,0.0,0.0,0.048670977331587116,1.0]],\"type\":\"heatmap\",\"xaxis\":\"x\",\"yaxis\":\"y\",\"hovertemplate\":\"\\u041f\\u0440\\u0438\\u0437\\u043d\\u0430\\u043a\\u0438: %{x}\\u003cbr\\u003e\\u041f\\u0440\\u0438\\u0437\\u043d\\u0430\\u043a\\u0438: %{y}\\u003cbr\\u003ePhik: %{z}\\u003cextra\\u003e\\u003c\\u002fextra\\u003e\"}],                        {\"template\":{\"data\":{\"histogram2dcontour\":[{\"type\":\"histogram2dcontour\",\"colorbar\":{\"outlinewidth\":0,\"ticks\":\"\"},\"colorscale\":[[0.0,\"#0d0887\"],[0.1111111111111111,\"#46039f\"],[0.2222222222222222,\"#7201a8\"],[0.3333333333333333,\"#9c179e\"],[0.4444444444444444,\"#bd3786\"],[0.5555555555555556,\"#d8576b\"],[0.6666666666666666,\"#ed7953\"],[0.7777777777777778,\"#fb9f3a\"],[0.8888888888888888,\"#fdca26\"],[1.0,\"#f0f921\"]]}],\"choropleth\":[{\"type\":\"choropleth\",\"colorbar\":{\"outlinewidth\":0,\"ticks\":\"\"}}],\"histogram2d\":[{\"type\":\"histogram2d\",\"colorbar\":{\"outlinewidth\":0,\"ticks\":\"\"},\"colorscale\":[[0.0,\"#0d0887\"],[0.1111111111111111,\"#46039f\"],[0.2222222222222222,\"#7201a8\"],[0.3333333333333333,\"#9c179e\"],[0.4444444444444444,\"#bd3786\"],[0.5555555555555556,\"#d8576b\"],[0.6666666666666666,\"#ed7953\"],[0.7777777777777778,\"#fb9f3a\"],[0.8888888888888888,\"#fdca26\"],[1.0,\"#f0f921\"]]}],\"heatmap\":[{\"type\":\"heatmap\",\"colorbar\":{\"outlinewidth\":0,\"ticks\":\"\"},\"colorscale\":[[0.0,\"#0d0887\"],[0.1111111111111111,\"#46039f\"],[0.2222222222222222,\"#7201a8\"],[0.3333333333333333,\"#9c179e\"],[0.4444444444444444,\"#bd3786\"],[0.5555555555555556,\"#d8576b\"],[0.6666666666666666,\"#ed7953\"],[0.7777777777777778,\"#fb9f3a\"],[0.8888888888888888,\"#fdca26\"],[1.0,\"#f0f921\"]]}],\"heatmapgl\":[{\"type\":\"heatmapgl\",\"colorbar\":{\"outlinewidth\":0,\"ticks\":\"\"},\"colorscale\":[[0.0,\"#0d0887\"],[0.1111111111111111,\"#46039f\"],[0.2222222222222222,\"#7201a8\"],[0.3333333333333333,\"#9c179e\"],[0.4444444444444444,\"#bd3786\"],[0.5555555555555556,\"#d8576b\"],[0.6666666666666666,\"#ed7953\"],[0.7777777777777778,\"#fb9f3a\"],[0.8888888888888888,\"#fdca26\"],[1.0,\"#f0f921\"]]}],\"contourcarpet\":[{\"type\":\"contourcarpet\",\"colorbar\":{\"outlinewidth\":0,\"ticks\":\"\"}}],\"contour\":[{\"type\":\"contour\",\"colorbar\":{\"outlinewidth\":0,\"ticks\":\"\"},\"colorscale\":[[0.0,\"#0d0887\"],[0.1111111111111111,\"#46039f\"],[0.2222222222222222,\"#7201a8\"],[0.3333333333333333,\"#9c179e\"],[0.4444444444444444,\"#bd3786\"],[0.5555555555555556,\"#d8576b\"],[0.6666666666666666,\"#ed7953\"],[0.7777777777777778,\"#fb9f3a\"],[0.8888888888888888,\"#fdca26\"],[1.0,\"#f0f921\"]]}],\"surface\":[{\"type\":\"surface\",\"colorbar\":{\"outlinewidth\":0,\"ticks\":\"\"},\"colorscale\":[[0.0,\"#0d0887\"],[0.1111111111111111,\"#46039f\"],[0.2222222222222222,\"#7201a8\"],[0.3333333333333333,\"#9c179e\"],[0.4444444444444444,\"#bd3786\"],[0.5555555555555556,\"#d8576b\"],[0.6666666666666666,\"#ed7953\"],[0.7777777777777778,\"#fb9f3a\"],[0.8888888888888888,\"#fdca26\"],[1.0,\"#f0f921\"]]}],\"mesh3d\":[{\"type\":\"mesh3d\",\"colorbar\":{\"outlinewidth\":0,\"ticks\":\"\"}}],\"scatter\":[{\"fillpattern\":{\"fillmode\":\"overlay\",\"size\":10,\"solidity\":0.2},\"type\":\"scatter\"}],\"parcoords\":[{\"type\":\"parcoords\",\"line\":{\"colorbar\":{\"outlinewidth\":0,\"ticks\":\"\"}}}],\"scatterpolargl\":[{\"type\":\"scatterpolargl\",\"marker\":{\"colorbar\":{\"outlinewidth\":0,\"ticks\":\"\"}}}],\"bar\":[{\"error_x\":{\"color\":\"#2a3f5f\"},\"error_y\":{\"color\":\"#2a3f5f\"},\"marker\":{\"line\":{\"color\":\"#E5ECF6\",\"width\":0.5},\"pattern\":{\"fillmode\":\"overlay\",\"size\":10,\"solidity\":0.2}},\"type\":\"bar\"}],\"scattergeo\":[{\"type\":\"scattergeo\",\"marker\":{\"colorbar\":{\"outlinewidth\":0,\"ticks\":\"\"}}}],\"scatterpolar\":[{\"type\":\"scatterpolar\",\"marker\":{\"colorbar\":{\"outlinewidth\":0,\"ticks\":\"\"}}}],\"histogram\":[{\"marker\":{\"pattern\":{\"fillmode\":\"overlay\",\"size\":10,\"solidity\":0.2}},\"type\":\"histogram\"}],\"scattergl\":[{\"type\":\"scattergl\",\"marker\":{\"colorbar\":{\"outlinewidth\":0,\"ticks\":\"\"}}}],\"scatter3d\":[{\"type\":\"scatter3d\",\"line\":{\"colorbar\":{\"outlinewidth\":0,\"ticks\":\"\"}},\"marker\":{\"colorbar\":{\"outlinewidth\":0,\"ticks\":\"\"}}}],\"scattermapbox\":[{\"type\":\"scattermapbox\",\"marker\":{\"colorbar\":{\"outlinewidth\":0,\"ticks\":\"\"}}}],\"scatterternary\":[{\"type\":\"scatterternary\",\"marker\":{\"colorbar\":{\"outlinewidth\":0,\"ticks\":\"\"}}}],\"scattercarpet\":[{\"type\":\"scattercarpet\",\"marker\":{\"colorbar\":{\"outlinewidth\":0,\"ticks\":\"\"}}}],\"carpet\":[{\"aaxis\":{\"endlinecolor\":\"#2a3f5f\",\"gridcolor\":\"white\",\"linecolor\":\"white\",\"minorgridcolor\":\"white\",\"startlinecolor\":\"#2a3f5f\"},\"baxis\":{\"endlinecolor\":\"#2a3f5f\",\"gridcolor\":\"white\",\"linecolor\":\"white\",\"minorgridcolor\":\"white\",\"startlinecolor\":\"#2a3f5f\"},\"type\":\"carpet\"}],\"table\":[{\"cells\":{\"fill\":{\"color\":\"#EBF0F8\"},\"line\":{\"color\":\"white\"}},\"header\":{\"fill\":{\"color\":\"#C8D4E3\"},\"line\":{\"color\":\"white\"}},\"type\":\"table\"}],\"barpolar\":[{\"marker\":{\"line\":{\"color\":\"#E5ECF6\",\"width\":0.5},\"pattern\":{\"fillmode\":\"overlay\",\"size\":10,\"solidity\":0.2}},\"type\":\"barpolar\"}],\"pie\":[{\"automargin\":true,\"type\":\"pie\"}]},\"layout\":{\"autotypenumbers\":\"strict\",\"colorway\":[\"#636efa\",\"#EF553B\",\"#00cc96\",\"#ab63fa\",\"#FFA15A\",\"#19d3f3\",\"#FF6692\",\"#B6E880\",\"#FF97FF\",\"#FECB52\"],\"font\":{\"color\":\"#2a3f5f\"},\"hovermode\":\"closest\",\"hoverlabel\":{\"align\":\"left\"},\"paper_bgcolor\":\"white\",\"plot_bgcolor\":\"#E5ECF6\",\"polar\":{\"bgcolor\":\"#E5ECF6\",\"angularaxis\":{\"gridcolor\":\"white\",\"linecolor\":\"white\",\"ticks\":\"\"},\"radialaxis\":{\"gridcolor\":\"white\",\"linecolor\":\"white\",\"ticks\":\"\"}},\"ternary\":{\"bgcolor\":\"#E5ECF6\",\"aaxis\":{\"gridcolor\":\"white\",\"linecolor\":\"white\",\"ticks\":\"\"},\"baxis\":{\"gridcolor\":\"white\",\"linecolor\":\"white\",\"ticks\":\"\"},\"caxis\":{\"gridcolor\":\"white\",\"linecolor\":\"white\",\"ticks\":\"\"}},\"coloraxis\":{\"colorbar\":{\"outlinewidth\":0,\"ticks\":\"\"}},\"colorscale\":{\"sequential\":[[0.0,\"#0d0887\"],[0.1111111111111111,\"#46039f\"],[0.2222222222222222,\"#7201a8\"],[0.3333333333333333,\"#9c179e\"],[0.4444444444444444,\"#bd3786\"],[0.5555555555555556,\"#d8576b\"],[0.6666666666666666,\"#ed7953\"],[0.7777777777777778,\"#fb9f3a\"],[0.8888888888888888,\"#fdca26\"],[1.0,\"#f0f921\"]],\"sequentialminus\":[[0.0,\"#0d0887\"],[0.1111111111111111,\"#46039f\"],[0.2222222222222222,\"#7201a8\"],[0.3333333333333333,\"#9c179e\"],[0.4444444444444444,\"#bd3786\"],[0.5555555555555556,\"#d8576b\"],[0.6666666666666666,\"#ed7953\"],[0.7777777777777778,\"#fb9f3a\"],[0.8888888888888888,\"#fdca26\"],[1.0,\"#f0f921\"]],\"diverging\":[[0,\"#8e0152\"],[0.1,\"#c51b7d\"],[0.2,\"#de77ae\"],[0.3,\"#f1b6da\"],[0.4,\"#fde0ef\"],[0.5,\"#f7f7f7\"],[0.6,\"#e6f5d0\"],[0.7,\"#b8e186\"],[0.8,\"#7fbc41\"],[0.9,\"#4d9221\"],[1,\"#276419\"]]},\"xaxis\":{\"gridcolor\":\"white\",\"linecolor\":\"white\",\"ticks\":\"\",\"title\":{\"standoff\":15},\"zerolinecolor\":\"white\",\"automargin\":true,\"zerolinewidth\":2},\"yaxis\":{\"gridcolor\":\"white\",\"linecolor\":\"white\",\"ticks\":\"\",\"title\":{\"standoff\":15},\"zerolinecolor\":\"white\",\"automargin\":true,\"zerolinewidth\":2},\"scene\":{\"xaxis\":{\"backgroundcolor\":\"#E5ECF6\",\"gridcolor\":\"white\",\"linecolor\":\"white\",\"showbackground\":true,\"ticks\":\"\",\"zerolinecolor\":\"white\",\"gridwidth\":2},\"yaxis\":{\"backgroundcolor\":\"#E5ECF6\",\"gridcolor\":\"white\",\"linecolor\":\"white\",\"showbackground\":true,\"ticks\":\"\",\"zerolinecolor\":\"white\",\"gridwidth\":2},\"zaxis\":{\"backgroundcolor\":\"#E5ECF6\",\"gridcolor\":\"white\",\"linecolor\":\"white\",\"showbackground\":true,\"ticks\":\"\",\"zerolinecolor\":\"white\",\"gridwidth\":2}},\"shapedefaults\":{\"line\":{\"color\":\"#2a3f5f\"}},\"annotationdefaults\":{\"arrowcolor\":\"#2a3f5f\",\"arrowhead\":0,\"arrowwidth\":1},\"geo\":{\"bgcolor\":\"white\",\"landcolor\":\"#E5ECF6\",\"subunitcolor\":\"white\",\"showland\":true,\"showlakes\":true,\"lakecolor\":\"white\"},\"title\":{\"x\":0.05},\"mapbox\":{\"style\":\"light\"}}},\"xaxis\":{\"anchor\":\"y\",\"domain\":[0.0,1.0],\"scaleanchor\":\"y\",\"constrain\":\"domain\",\"title\":{\"text\":\"\\u041f\\u0440\\u0438\\u0437\\u043d\\u0430\\u043a\\u0438\"}},\"yaxis\":{\"anchor\":\"x\",\"domain\":[0.0,1.0],\"autorange\":\"reversed\",\"constrain\":\"domain\",\"title\":{\"text\":\"\\u041f\\u0440\\u0438\\u0437\\u043d\\u0430\\u043a\\u0438\"}},\"coloraxis\":{\"colorbar\":{\"title\":{\"text\":\"Phik\"}},\"colorscale\":[[0.0,\"rgb(247,252,245)\"],[0.125,\"rgb(229,245,224)\"],[0.25,\"rgb(199,233,192)\"],[0.375,\"rgb(161,217,155)\"],[0.5,\"rgb(116,196,118)\"],[0.625,\"rgb(65,171,93)\"],[0.75,\"rgb(35,139,69)\"],[0.875,\"rgb(0,109,44)\"],[1.0,\"rgb(0,68,27)\"]]},\"title\":{\"text\":\"\\u041c\\u0430\\u0442\\u0440\\u0438\\u0446\\u0430 \\u043a\\u043e\\u0440\\u0440\\u0435\\u043b\\u044f\\u0446\\u0438\\u0438 Phik\"},\"width\":700,\"height\":700},                        {\"responsive\": true}                    ).then(function(){\n",
       "                            \n",
       "var gd = document.getElementById('3eef3d5f-023b-4fcf-86ea-6932f4df45d0');\n",
       "var x = new MutationObserver(function (mutations, observer) {{\n",
       "        var display = window.getComputedStyle(gd).display;\n",
       "        if (!display || display === 'none') {{\n",
       "            console.log([gd, 'removed!']);\n",
       "            Plotly.purge(gd);\n",
       "            observer.disconnect();\n",
       "        }}\n",
       "}});\n",
       "\n",
       "// Listen for the removal of the full notebook cells\n",
       "var notebookContainer = gd.closest('#notebook-container');\n",
       "if (notebookContainer) {{\n",
       "    x.observe(notebookContainer, {childList: true});\n",
       "}}\n",
       "\n",
       "// Listen for the clearing of the current output cell\n",
       "var outputEl = gd.closest('.output');\n",
       "if (outputEl) {{\n",
       "    x.observe(outputEl, {childList: true});\n",
       "}}\n",
       "\n",
       "                        })                };                });            </script>        </div>"
      ]
     },
     "metadata": {},
     "output_type": "display_data"
    }
   ],
   "source": [
    "phik_corr = df_forAnalisys.phik_matrix()\n",
    "\n",
    "fig = px.imshow(\n",
    "    phik_corr.values,\n",
    "    x=phik_corr.columns,\n",
    "    y=phik_corr.index,\n",
    "    color_continuous_scale='Greens',\n",
    "    title='Матрица корреляции Phik',\n",
    "    labels=dict(x=\"Признаки\", y=\"Признаки\", color=\"Phik\")\n",
    ")\n",
    "\n",
    "fig.update_layout(width=700, height=700)\n",
    "fig.show()"
   ]
  },
  {
   "cell_type": "markdown",
   "id": "923a8c55-2752-4cc9-a816-0ab1515ab747",
   "metadata": {},
   "source": [
    "### Комментарии"
   ]
  },
  {
   "cell_type": "markdown",
   "id": "cf702b6d-aacf-4a3b-bde2-f08b0ff8885a",
   "metadata": {},
   "source": [
    "Ситуация грустная, пока что не понятно получится ли сделать приемлемого качества модель, тк целевая переменная крайне слабо зависит от любого из показателей\n",
    "\n",
    "Из плюсов: судя по низкой корреляции признаков, мультиколлинеарности здесь искать не стоит)\n",
    "\n",
    "Скорее всего факт облысения объявляется под влиянием некоторого множества признаков, которые в совокупности должны оказывать влияние на то, теряет ли человек волосы или нет."
   ]
  },
  {
   "cell_type": "code",
   "execution_count": null,
   "id": "25c68b0a-3a14-4143-a85a-7c589150be1a",
   "metadata": {},
   "outputs": [],
   "source": []
  },
  {
   "cell_type": "code",
   "execution_count": null,
   "id": "fac9a5bf-07c8-44a0-90d3-52b0bb134ec3",
   "metadata": {},
   "outputs": [],
   "source": []
  }
 ],
 "metadata": {
  "kernelspec": {
   "display_name": "Python 3 (ipykernel)",
   "language": "python",
   "name": "python3"
  },
  "language_info": {
   "codemirror_mode": {
    "name": "ipython",
    "version": 3
   },
   "file_extension": ".py",
   "mimetype": "text/x-python",
   "name": "python",
   "nbconvert_exporter": "python",
   "pygments_lexer": "ipython3",
   "version": "3.11.5"
  }
 },
 "nbformat": 4,
 "nbformat_minor": 5
}
